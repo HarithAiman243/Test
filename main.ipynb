{
 "cells": [
  {
   "cell_type": "markdown",
   "id": "a9178b0f",
   "metadata": {},
   "source": [
    "Building a PDF chat bot — Retrieval Augmented Generation (RAG)\n",
    "\n",
    "Reference: https://medium.com/@prithiviraj7r/building-a-pdf-chat-bot-retrieval-augmented-generation-rag-0bcf6060bbd6\n",
    "\n",
    "Date: Monday - 6th October 2025\n",
    "\n",
    "List of components:\n",
    "• Extract text from PDF docs\n",
    "• Chunking/Segmentation of text\n",
    "• Embedding text & Ingestion in Vectorstore\n",
    "• Conversation using LLMs (OpenAI)"
   ]
  },
  {
   "cell_type": "code",
   "execution_count": 1,
   "id": "73f86792",
   "metadata": {},
   "outputs": [],
   "source": [
    "from PyPDF2 import PdfReader, PdfWriter\n",
    "\n",
    "def get_pdf_content(pdf_path):\n",
    "\n",
    "    raw_text = \"\"\n",
    "\n",
    "    for document in documents:\n",
    "        reader = PdfReader(pdf_path)\n",
    "        content = []\n",
    "        for page in reader.pages:\n",
    "            content.append(page.extract_text())\n",
    "    \n",
    "    return \"\\n\".join(content)"
   ]
  },
  {
   "cell_type": "code",
   "execution_count": 2,
   "id": "4a2d0e27",
   "metadata": {},
   "outputs": [],
   "source": [
    "# Chunking\n",
    "\n",
    "from langchain.text_splitter import CharacterTextSplitter\n",
    "\n",
    "def chunk_text(text, chunk_size=1000, overlap=200):\n",
    "    chunks = []\n",
    "    start = 0\n",
    "    text_length = len(text)\n",
    "\n",
    "    while start < text_length:\n",
    "        end = min(start + chunk_size, text_length)\n",
    "        chunks.append(text[start:end])\n",
    "        start += chunk_size - overlap\n",
    "\n",
    "    return chunks"
   ]
  },
  {
   "cell_type": "code",
   "execution_count": 3,
   "id": "46f576cd",
   "metadata": {},
   "outputs": [],
   "source": [
    "# Embeddings and Vector Store\n",
    "\n",
    "from langchain_community.embeddings import HuggingFaceEmbeddings\n",
    "from langchain_community.vectorstores import FAISS\n",
    "\n",
    "def get_embeddings(chunks):\n",
    "    embeddings = HuggingFaceEmbeddings(model_name=\"sentence-transformers/all-MiniLM-L6-v2\") # Fast and Free\n",
    "    vector_store = FAISS.from_texts(chunks, embeddings)\n",
    "    return vector_store"
   ]
  },
  {
   "cell_type": "code",
   "execution_count": 4,
   "id": "464ba1e9",
   "metadata": {},
   "outputs": [],
   "source": [
    "# Conversation using LLMs (OpenAI)\n",
    "\n",
    "from langchain.memory import ConversationBufferMemory\n",
    "from langchain.chains import ConversationalRetrievalChain\n",
    "from langchain_community.llms import HuggingFaceHub\n",
    "\n",
    "def get_conversation_chain(vector_store):\n",
    "    llm = HuggingFaceHub(\n",
    "        repo_id = \"HuggingFaceH4/zephyrl-mini\",\n",
    "        temperature=0, model_name=\"gpt-3.5-turbo\")\n",
    "    memory = ConversationBufferMemory(memory_key=\"chat_history\", return_messages=True)\n",
    "    conversation_chain = ConversationalRetrievalChain.from_llm(\n",
    "        llm,\n",
    "        vector_store.as_retriever(),\n",
    "        memory=memory\n",
    "    )\n",
    "    return conversation_chain"
   ]
  },
  {
   "cell_type": "code",
   "execution_count": 5,
   "id": "2f61c1ea",
   "metadata": {},
   "outputs": [],
   "source": [
    "import streamlit as st\n",
    "\n",
    "def process_query(query_text):\n",
    "    response = st.session_state.conversation_chain({'question': query_text})\n",
    "    st.session_state.chat_history = response['chat_history']\n",
    "\n",
    "    for i, message in enumerate(st.session_state.chat_history):\n",
    "        if i % 2 == 0:\n",
    "            #st.markdown(f\"**User:** {message.content}\")\n",
    "            st.write(user_template.replace(\"{{MSG}}\", message.content), unsafe_allow_html=True)\n",
    "        else:\n",
    "            #st.markdown(f\"**Bot:** {message.content}\")\n",
    "            st.write(bot_template.replace(\"{{MSG}}\", message.content), unsafe_allow_html=True)\n",
    "    return response"
   ]
  },
  {
   "cell_type": "code",
   "execution_count": 7,
   "id": "37cca21d",
   "metadata": {},
   "outputs": [
    {
     "name": "stderr",
     "output_type": "stream",
     "text": [
      "2025-10-08 14:16:20.402 WARNING streamlit.runtime.scriptrunner_utils.script_run_context: Thread 'MainThread': missing ScriptRunContext! This warning can be ignored when running in bare mode.\n"
     ]
    },
    {
     "ename": "NameError",
     "evalue": "name 'css' is not defined",
     "output_type": "error",
     "traceback": [
      "\u001b[31m---------------------------------------------------------------------------\u001b[39m",
      "\u001b[31mNameError\u001b[39m                                 Traceback (most recent call last)",
      "\u001b[36mCell\u001b[39m\u001b[36m \u001b[39m\u001b[32mIn[7]\u001b[39m\u001b[32m, line 44\u001b[39m\n\u001b[32m     41\u001b[39m             st.success(\u001b[33m\"\u001b[39m\u001b[33mDocument processed successfully!\u001b[39m\u001b[33m\"\u001b[39m)\n\u001b[32m     43\u001b[39m \u001b[38;5;28;01mif\u001b[39;00m \u001b[34m__name__\u001b[39m == \u001b[33m\"\u001b[39m\u001b[33m__main__\u001b[39m\u001b[33m\"\u001b[39m:\n\u001b[32m---> \u001b[39m\u001b[32m44\u001b[39m     \u001b[43mmain\u001b[49m\u001b[43m(\u001b[49m\u001b[43m)\u001b[49m\n",
      "\u001b[36mCell\u001b[39m\u001b[36m \u001b[39m\u001b[32mIn[7]\u001b[39m\u001b[32m, line 9\u001b[39m, in \u001b[36mmain\u001b[39m\u001b[34m()\u001b[39m\n\u001b[32m      6\u001b[39m st.set_page_config(page_title=\u001b[33m\"\u001b[39m\u001b[33mRAG Chatbot\u001b[39m\u001b[33m\"\u001b[39m, page_icon=\u001b[33m\"\u001b[39m\u001b[33m:robot_face:\u001b[39m\u001b[33m\"\u001b[39m, layout=\u001b[33m\"\u001b[39m\u001b[33mwide\u001b[39m\u001b[33m\"\u001b[39m)\n\u001b[32m      7\u001b[39m \u001b[38;5;66;03m#st.image(\"templates/logo.png\", width=100)\u001b[39;00m\n\u001b[32m----> \u001b[39m\u001b[32m9\u001b[39m st.write(\u001b[43mcss\u001b[49m, unsafe_allow_html=\u001b[38;5;28;01mTrue\u001b[39;00m)\n\u001b[32m     11\u001b[39m st.header(\u001b[33m\"\u001b[39m\u001b[33mRAG Chatbot :robot_face:\u001b[39m\u001b[33m\"\u001b[39m)\n\u001b[32m     12\u001b[39m query = st.text_input(\u001b[33m\"\u001b[39m\u001b[33mAsk a question about your document:\u001b[39m\u001b[33m\"\u001b[39m, placeholder=\u001b[33m\"\u001b[39m\u001b[33mType your question here...\u001b[39m\u001b[33m\"\u001b[39m, key=\u001b[33m\"\u001b[39m\u001b[33minput\u001b[39m\u001b[33m\"\u001b[39m)\n",
      "\u001b[31mNameError\u001b[39m: name 'css' is not defined"
     ]
    }
   ],
   "source": [
    "from dotenv import load_dotenv\n",
    "\n",
    "def main():\n",
    "    load_dotenv()\n",
    "\n",
    "    st.set_page_config(page_title=\"RAG Chatbot\", page_icon=\":robot_face:\", layout=\"wide\")\n",
    "    #st.image(\"templates/logo.png\", width=100)\n",
    "\n",
    "    st.write(css, unsafe_allow_html=True)\n",
    "\n",
    "    st.header(\"RAG Chatbot :robot_face:\")\n",
    "    query = st.text_input(\"Ask a question about your document:\", placeholder=\"Type your question here...\", key=\"input\")\n",
    "\n",
    "    if query:\n",
    "        process_query(query)\n",
    "\n",
    "    if \"conversation_chain\" not in st.session_state:\n",
    "        st.session_state.conversation_chain = None\n",
    "    \n",
    "    if \"chat_history\" not in st.session_state:\n",
    "        st.session_state.chat_history = None\n",
    "    \n",
    "    with st.sidebar:\n",
    "        st.subheader(\"Your Document\")\n",
    "        pdf = st.file_uploader(\"Upload a PDF file\", type=[\"pdf\"], accept_multiple_files=True)\n",
    "\n",
    "        if st.button(\"Run\"):\n",
    "            with st.spinner(\"Processing...\"):\n",
    "                # extract text from pdf documents\n",
    "                raw_text = get_pdf_content(pdf)\n",
    "\n",
    "                # convert text to chunks of data\n",
    "                chunks = chunk_text(raw_text)\n",
    "\n",
    "                # create vector embeddings\n",
    "                vector_store = get_embeddings(chunks)\n",
    "\n",
    "                # create conversation chain\n",
    "                st.session_state.conversation_chain = get_conversation_chain(vector_store)\n",
    "\n",
    "            st.success(\"Document processed successfully!\")\n",
    "\n",
    "if __name__ == \"__main__\":\n",
    "    main()"
   ]
  }
 ],
 "metadata": {
  "kernelspec": {
   "display_name": ".venv",
   "language": "python",
   "name": "python3"
  },
  "language_info": {
   "codemirror_mode": {
    "name": "ipython",
    "version": 3
   },
   "file_extension": ".py",
   "mimetype": "text/x-python",
   "name": "python",
   "nbconvert_exporter": "python",
   "pygments_lexer": "ipython3",
   "version": "3.12.3"
  }
 },
 "nbformat": 4,
 "nbformat_minor": 5
}
